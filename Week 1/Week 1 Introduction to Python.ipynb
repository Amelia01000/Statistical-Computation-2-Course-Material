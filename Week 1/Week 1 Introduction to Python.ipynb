{
 "cells": [
  {
   "attachments": {},
   "cell_type": "markdown",
   "metadata": {},
   "source": [
    "# Introduction to Python"
   ]
  },
  {
   "attachments": {},
   "cell_type": "markdown",
   "metadata": {},
   "source": [
    "## Data Types"
   ]
  },
  {
   "attachments": {},
   "cell_type": "markdown",
   "metadata": {},
   "source": [
    "### Boolean"
   ]
  },
  {
   "attachments": {},
   "cell_type": "markdown",
   "metadata": {},
   "source": [
    "Boolean adalah tipe data yang hanya mempunyai 2 nilai yaitu True atau False. Tipe data ini sering kali digunakan dalam comparison dan logical operators. Untuk comparison operator contohnya adalah sebagai berikut :\n",
    "* a == b : a is equal to b\n",
    "* a != b : a is different than b\n",
    "* a < b : a is smaller than b\n",
    "* a <= b: a is smaller or equal to b\n",
    "* a > b: a is bigger than b\n",
    "* a >= b: a is bigger or equal to b <br/>\n",
    "\n",
    "Untuk logical operators dapat beberapa contohnya adalah sebagai berikut :<br/>\n",
    "* a and b: True if both a and b are True. False otherwise.a == b: a is equal to b\n",
    "* a or b: True if either a or b or both are True. False if both are False.\n",
    "* not a: True if a is False, False if a is True.\n"
   ]
  },
  {
   "cell_type": "code",
   "execution_count": 1,
   "metadata": {},
   "outputs": [
    {
     "name": "stdout",
     "output_type": "stream",
     "text": [
      "True\n",
      "False\n",
      "True\n",
      "False\n"
     ]
    }
   ],
   "source": [
    "print(1 < 10)\n",
    "\n",
    "print(\"Linux\" == \"Windows\")\n",
    "\n",
    "print(1 != \"1\")\n",
    "\n",
    "print(not True)"
   ]
  },
  {
   "attachments": {},
   "cell_type": "markdown",
   "metadata": {},
   "source": [
    "### String"
   ]
  },
  {
   "attachments": {},
   "cell_type": "markdown",
   "metadata": {},
   "source": [
    "String adalah tipe data yang memuat karakter/kalimat bisa berupa huruf, angka, dan sebagainya yang diapit tanda \" atau '. Dalam python tipe data ini dinyatakan sebagai berikut :"
   ]
  },
  {
   "cell_type": "code",
   "execution_count": null,
   "metadata": {},
   "outputs": [],
   "source": [
    "color = \"red\"\n",
    "print(type(color))"
   ]
  },
  {
   "cell_type": "code",
   "execution_count": 3,
   "metadata": {},
   "outputs": [
    {
     "name": "stdout",
     "output_type": "stream",
     "text": [
      "let's\n",
      "\"komstat 2\"\n",
      "0\n",
      "False\n"
     ]
    }
   ],
   "source": [
    "program_name = 'komstat 2'\n",
    "program_year = \"it's the 2nd\"\n",
    "multi_line = \"\"\"hello,\n",
    "email test.\n",
    "signature.\"\"\"\n",
    "  \n",
    "# let's\n",
    "# \"komstat 2\"\n",
    "print(\"let's\\n\\\"\"+program_name+\"\\\"\")\n",
    "\n",
    "\n",
    "print(len(''))  # 0\n",
    "print(len(program_name)==8)  # False"
   ]
  },
  {
   "attachments": {},
   "cell_type": "markdown",
   "metadata": {},
   "source": [
    "**Untuk mengakses substring, gunakan index atau slicing**.\n",
    "\n",
    "Python mulai menghitung indeks dari 0 bukan 1. Indeks akses lebih besar dari panjangnya - 1, memicu indeks di luar jangkauan. Indeks negatif dimulai dari belakang.\n",
    "\n",
    "Untuk mengakses substring, gunakan slicing, mirip dengan index, dengan range menggunakan tanda titik dua sebagai pemisah, dimulai dari angka pertama, sampai 1 kurang dari yang terakhir.\n",
    "\n",
    "Sclicing dengan salah satu dari dua indeks berarti indeks lainnya adalah 0 untuk nilai pertama atau panjangnya untuk nilai kedua."
   ]
  },
  {
   "cell_type": "code",
   "execution_count": 5,
   "metadata": {},
   "outputs": [
    {
     "name": "stdout",
     "output_type": "stream",
     "text": [
      "o\n",
      "2\n",
      "2\n",
      " \n",
      "tat \n",
      "koms\n",
      "tat 2\n"
     ]
    }
   ],
   "source": [
    "name = 'komstat 2'\n",
    "print(name[1])  # o\n",
    "print(name[len(name)-1])  # 2\n",
    "print(name[-1])  # 2\n",
    "print(name[-2])  # 2\n",
    "  \n",
    "print(name[4:len(name)-1])  # tat\n",
    "  \n",
    "print(name[:4])  # koms (0-3)\n",
    "print(name[4:])  # tat 2  (4-len)"
   ]
  },
  {
   "attachments": {},
   "cell_type": "markdown",
   "metadata": {},
   "source": [
    "**String dalam Python tidak dapat diubah**\n",
    "\n",
    "String dalam Python tidak dapat diubah, artinya tidak dapat dimodifikasi, tidak dapat mengubah karakter individu. Itu akan memicu objek TypeError tidak mendukung item assignment. Untuk mengubah string, ganti dengan string baru. Gunakan kata kunci in untuk memeriksa apakah substring merupakan bagian dari string."
   ]
  },
  {
   "cell_type": "code",
   "execution_count": 6,
   "metadata": {},
   "outputs": [
    {
     "ename": "TypeError",
     "evalue": "'str' object does not support item assignment",
     "output_type": "error",
     "traceback": [
      "\u001b[1;31m---------------------------------------------------------------------------\u001b[0m",
      "\u001b[1;31mTypeError\u001b[0m                                 Traceback (most recent call last)",
      "Cell \u001b[1;32mIn[6], line 2\u001b[0m\n\u001b[0;32m      1\u001b[0m year \u001b[39m=\u001b[39m \u001b[39m\"\u001b[39m\u001b[39mit\u001b[39m\u001b[39m'\u001b[39m\u001b[39ms 2021\u001b[39m\u001b[39m\"\u001b[39m\n\u001b[1;32m----> 2\u001b[0m year[\u001b[39m-\u001b[39;49m\u001b[39m1\u001b[39;49m] \u001b[39m=\u001b[39m \u001b[39m\"\u001b[39m\u001b[39m0\u001b[39m\u001b[39m\"\u001b[39m  \u001b[39m# TypeError\u001b[39;00m\n",
      "\u001b[1;31mTypeError\u001b[0m: 'str' object does not support item assignment"
     ]
    }
   ],
   "source": [
    "year = \"it's 2021\"\n",
    "year[-1] = \"0\"  # TypeError"
   ]
  },
  {
   "attachments": {},
   "cell_type": "markdown",
   "metadata": {},
   "source": [
    "### Integer"
   ]
  },
  {
   "attachments": {},
   "cell_type": "markdown",
   "metadata": {},
   "source": [
    "Tipe data integer adalah tipe data yang menyatakan bilangan bulat. Dalam python dapat dituliskan sebagai berikut :"
   ]
  },
  {
   "cell_type": "code",
   "execution_count": 1,
   "metadata": {},
   "outputs": [
    {
     "name": "stdout",
     "output_type": "stream",
     "text": [
      "<class 'int'>\n"
     ]
    }
   ],
   "source": [
    "length = 10\n",
    "print(type(length))"
   ]
  },
  {
   "attachments": {},
   "cell_type": "markdown",
   "metadata": {},
   "source": [
    "### Float"
   ]
  },
  {
   "attachments": {},
   "cell_type": "markdown",
   "metadata": {},
   "source": [
    "Tipe data float adalah tipe data yang mempunyai desimal. Dalam python dapat dituliskan sebagai berikut :"
   ]
  },
  {
   "cell_type": "code",
   "execution_count": 2,
   "metadata": {},
   "outputs": [
    {
     "name": "stdout",
     "output_type": "stream",
     "text": [
      "<class 'float'>\n"
     ]
    }
   ],
   "source": [
    "width = 2.5\n",
    "print(type(width))"
   ]
  },
  {
   "attachments": {},
   "cell_type": "markdown",
   "metadata": {},
   "source": [
    "### List"
   ]
  },
  {
   "attachments": {},
   "cell_type": "markdown",
   "metadata": {},
   "source": [
    "list adalah wadah dengan ruang di dalamnya dibagi menjadi slot yang berbeda. Setiap slot dapat berisi nilai yang berbeda. Python menggunakan tanda kurung siku [] untuk menunjukkan di mana indeks dimulai dan diakhiri. List indeks dimulai dari 0, seperti string, juga dapat melakukan slicing untuk mengembalikan list lain."
   ]
  },
  {
   "cell_type": "code",
   "execution_count": 6,
   "metadata": {},
   "outputs": [
    {
     "name": "stdout",
     "output_type": "stream",
     "text": [
      "<class 'list'>\n",
      "[2020, 2021]\n",
      "2\n",
      "False\n",
      "2020\n",
      "[2020]\n",
      "2020\n",
      "2021\n"
     ]
    }
   ],
   "source": [
    "program_year = [2020, 2021]\n",
    "\n",
    "print(type(program_year))    # list\n",
    "print(program_year)\n",
    "print(len(program_year))     # 2\n",
    "print(2019 in program_year)  # False\n",
    "\n",
    "print(program_year[0])       # 2020\n",
    "print(program_year[:1])     # [2020]\n",
    "\n",
    "for year in program_year:\n",
    "    print(year)  # element per line\n"
   ]
  },
  {
   "attachments": {},
   "cell_type": "markdown",
   "metadata": {},
   "source": [
    "Jika string tidak dapat diubah, list dapat diubah, artinya dapat menambah, menghapus, atau memodifikasi elemen dalam list.\n",
    "\n",
    "Gunakan append untuk menambah elemen terakhir. Untuk menambahkan indeks tertentu, gunakan insert. Untuk menghapus elemen, gunakan hapus dengan elemen atau pop dengan indeks.\n",
    "\n",
    "Untuk modifikasi elemen, ubah langsung ke indeks tertentu."
   ]
  },
  {
   "cell_type": "code",
   "execution_count": 9,
   "metadata": {},
   "outputs": [
    {
     "name": "stdout",
     "output_type": "stream",
     "text": [
      "3\n",
      "['Datmin', 'Dasains', 'Komstat']\n",
      "['Data Mining', 'Dasains', 'Komstat']\n"
     ]
    }
   ],
   "source": [
    "paths = ['Datmin', 'Komstat']\n",
    "paths.append('Peramalan')\n",
    "print(len(paths))  # 3\n",
    "paths.remove('Peramalan')\n",
    "paths.insert(1, 'Dasains')\n",
    "\n",
    "# ['Datmin', 'Dasains', 'Komstat']\n",
    "print(paths)\n",
    "paths.append('Python')\n",
    "paths.pop(-1)  # remove 'Python'\n",
    "\n",
    "# change 'Datmin' to 'Data Mining'\n",
    "paths[0] = 'Data Mining'\n",
    "print(paths)\n"
   ]
  },
  {
   "attachments": {},
   "cell_type": "markdown",
   "metadata": {},
   "source": [
    "### Tuple"
   ]
  },
  {
   "attachments": {},
   "cell_type": "markdown",
   "metadata": {},
   "source": [
    "Tuple seperti list. Mereka dapat berisi elemen dari tipe data apa pun. Tapi, tidak seperti list, tupel tidak dapat diubah. Python menggunakan tanda kurung () untuk menunjukkan di mana tuple dimulai dan diakhiri. Contoh tuple yang bagus adalah ketika suatu fungsi mengembalikan banyak nilai. String, list, dan Tuple disertakan sebagai tipe urutan. Dalam python dapat dituliskan sebagai berikut :"
   ]
  },
  {
   "cell_type": "code",
   "execution_count": 12,
   "metadata": {},
   "outputs": [
    {
     "name": "stdout",
     "output_type": "stream",
     "text": [
      "(1, 3, 5, 7)\n",
      "<class 'tuple'>\n"
     ]
    }
   ],
   "source": [
    "stat = (1, 3, 5, 7)\n",
    "print(stat)  # (4, 16, 4.0)\n",
    "print(type(stat))  # tuple"
   ]
  },
  {
   "attachments": {},
   "cell_type": "markdown",
   "metadata": {},
   "source": [
    "### Dictionary"
   ]
  },
  {
   "attachments": {},
   "cell_type": "markdown",
   "metadata": {},
   "source": [
    "Seperti list, dictionary digunakan untuk mengatur elemen ke dalam koleksi. Tidak seperti list, dictionary tidak mengakses elemen di dalam menggunakan posisi (indeks). Data di dalam dictionary berbentuk pasangan key dan value. Untuk mendapatkan value dari dictionary, gunakan key yang sesuai. Tidak seperti indeks list harus berupa angka, tipe key dalam dictionary menggunakan string, bilangan bulat, tupel & lainnya. dictionary menggunakan kurung kurawal {}."
   ]
  },
  {
   "cell_type": "code",
   "execution_count": 13,
   "metadata": {},
   "outputs": [
    {
     "name": "stdout",
     "output_type": "stream",
     "text": [
      "<class 'dict'>\n",
      "30\n",
      "komstat 2: 60\n",
      "data mining: 90\n",
      "peramalan: 30\n"
     ]
    }
   ],
   "source": [
    "students = {\n",
    "    'komstat 2': 60,\n",
    "    'data mining': 90,\n",
    "    'peramalan': 30\n",
    "}\n",
    "print(type(students))     # dict\n",
    "print(students['peramalan'])  # 30\n",
    "\n",
    "# keys: ['komstat', 'data mining', 'peramalan']\n",
    "for key in students.keys():\n",
    "    # eg: komstat 2:60\n",
    "    print(key + ': '+ str(students[key]))"
   ]
  },
  {
   "attachments": {},
   "cell_type": "markdown",
   "metadata": {},
   "source": [
    "# Function"
   ]
  },
  {
   "attachments": {},
   "cell_type": "markdown",
   "metadata": {},
   "source": [
    "Fungsi adalah blok kode yang hanya berjalan saat dipanggil. kita dapat meneruskan data, yang dikenal sebagai parameter, ke dalam suatu fungsi. Suatu fungsi dapat mengembalikan data sebagai hasilnya. Dalam Python fungsi memiliki beberapa aturan yaitu : \n",
    "* Tentukan fungsi dengan kata kunci def.\n",
    "* Fungsi memiliki badan, ditulis sebagai blok setelah titik dua dalam definisi fungsi. Blok telah menjorok ke kanan.\n",
    "* Untuk mendapatkan nilai dari suatu fungsi gunakan kata kunci return.\n"
   ]
  },
  {
   "cell_type": "code",
   "execution_count": null,
   "metadata": {},
   "outputs": [],
   "source": [
    "def greeting(name):\n",
    "  return 'Hello, ' + name\n",
    "\n",
    "print(greeting(\"Komstat 2 2023\"))"
   ]
  },
  {
   "attachments": {},
   "cell_type": "markdown",
   "metadata": {},
   "source": [
    "# Control Flow"
   ]
  },
  {
   "attachments": {},
   "cell_type": "markdown",
   "metadata": {},
   "source": [
    "Barisan perintah dalam Python biasanya di eksekusi baris per baris. Dalam Python, barisan perintah dipisahkan dengan : diikuti dengan spasi dan indentasi sebagai satu group dipandang sebagai satu ekspresi tunggal dalam Python, tetapi barisan ekspresi yang dinyatakan dalam bentuk grup ini juga di execute baris perbaris. Untuk mengatur proses eksekusi, diperlukan perintah - perintah control flow. Bentuk control flow ini akan banyak digunakan dalam menulis suatu fungsi yang dibentuk oleh user. Beberapa perintah control flow yang dikenal di dalam Python sebagai berikut\n"
   ]
  },
  {
   "attachments": {},
   "cell_type": "markdown",
   "metadata": {},
   "source": [
    "# If Statement"
   ]
  },
  {
   "cell_type": "code",
   "execution_count": null,
   "metadata": {},
   "outputs": [],
   "source": [
    "def check(number):\n",
    "    if number > 0:\n",
    "        return \"Positive\"\n",
    "    elif number == 0:\n",
    "        return \"Zero\"\n",
    "    else: \n",
    "        return \"Negative\"\n",
    "\n",
    "print(check(10)) # Positive"
   ]
  },
  {
   "attachments": {},
   "cell_type": "markdown",
   "metadata": {},
   "source": [
    "## Match"
   ]
  },
  {
   "attachments": {},
   "cell_type": "markdown",
   "metadata": {},
   "source": [
    "Akan dievaluasi dari nilai expression, yang bernilai karakter atau numerik Nilai dari expression dibandingkan dengan nilai dari argumen setelahnya, jika cocok dengan salah satu, nilai dari argumen tersebut kemudian dimunculkan sebagai nilai dari fungsi switch. Fungsi ini dapat menggantikan nested if untuk melakukan multiple conditional."
   ]
  },
  {
   "cell_type": "code",
   "execution_count": 15,
   "metadata": {},
   "outputs": [
    {
     "name": "stdout",
     "output_type": "stream",
     "text": [
      "You can become a Data Scientist\n"
     ]
    }
   ],
   "source": [
    "lang = input(\"What's the programming language you want to learn? \")\n",
    "\n",
    "match lang:\n",
    "    case \"JavaScript\":\n",
    "        print(\"You can become a web developer.\")\n",
    "\n",
    "    case \"Python\":\n",
    "        print(\"You can become a Data Scientist\")\n",
    "\n",
    "    case \"PHP\":\n",
    "        print(\"You can become a backend developer\")\n",
    "    \n",
    "    case \"Solidity\":\n",
    "        print(\"You can become a Blockchain developer\")\n",
    "\n",
    "    case \"Java\":\n",
    "        print(\"You can become a mobile app developer\")\n",
    "    case _:\n",
    "        print(\"The language doesn't matter, what matters is solving problems.\")"
   ]
  },
  {
   "attachments": {},
   "cell_type": "markdown",
   "metadata": {},
   "source": [
    "## For Loops"
   ]
  },
  {
   "attachments": {},
   "cell_type": "markdown",
   "metadata": {},
   "source": [
    "Syntax dasar fungsi sebagai berikut: <br/><br/>\n",
    "for name in expression1: <br/>\n",
    "&nbsp;&nbsp;&nbsp;&nbsp; expression2 <br/><br/>\n",
    "Pertama akan dievaluasi nilai dari expression2 untuk setiap nilai di suatu barisan index di expression1. Dalam python dapat dituliskan sebagai berikut :\n"
   ]
  },
  {
   "cell_type": "code",
   "execution_count": 16,
   "metadata": {},
   "outputs": [
    {
     "name": "stdout",
     "output_type": "stream",
     "text": [
      "x=0\n",
      "x=1\n",
      "x=2\n"
     ]
    }
   ],
   "source": [
    "for x in range(3):\n",
    "  print(\"x =\" + str(x))"
   ]
  },
  {
   "attachments": {},
   "cell_type": "markdown",
   "metadata": {},
   "source": [
    "## While"
   ]
  },
  {
   "attachments": {},
   "cell_type": "markdown",
   "metadata": {},
   "source": [
    "Syntax dasar statement adalah sebagai berikut:\n",
    "<br/><br/>\n",
    "while <condition>:<br/>\n",
    "&nbsp;&nbsp;&nbsp;&nbsp;# Jika kondisi benar<br/>\n",
    "&nbsp;&nbsp;&nbsp;&nbsp;run_this_statement\n",
    "<br/><br/>\n",
    "Evaluasi nilai boolean dari condition, jika TRUE maka evaluasi nilai run_this_statement, kemudian kembali ke awal untuk mengevaluasi run_this_statement lagi. Dalam python dapat dituliskan sebagai berikut :\n"
   ]
  },
  {
   "cell_type": "code",
   "execution_count": 17,
   "metadata": {},
   "outputs": [
    {
     "name": "stdout",
     "output_type": "stream",
     "text": [
      "positive x=7\n",
      "now x=6\n",
      "positive x=6\n",
      "now x=5\n",
      "positive x=5\n",
      "now x=4\n",
      "positive x=4\n",
      "now x=3\n",
      "positive x=3\n",
      "now x=2\n",
      "positive x=2\n",
      "now x=1\n",
      "positive x=1\n",
      "now x=0\n"
     ]
    }
   ],
   "source": [
    "x = 7  # also try with x = 0\n",
    "\n",
    "while x > 0:\n",
    "  print(\"positive x=\" + str(x))\n",
    "  x = x - 1\n",
    "  print(\"now x=\" + str(x))"
   ]
  }
 ],
 "metadata": {
  "kernelspec": {
   "display_name": "Python 3",
   "language": "python",
   "name": "python3"
  },
  "language_info": {
   "codemirror_mode": {
    "name": "ipython",
    "version": 3
   },
   "file_extension": ".py",
   "mimetype": "text/x-python",
   "name": "python",
   "nbconvert_exporter": "python",
   "pygments_lexer": "ipython3",
   "version": "3.10.9"
  },
  "orig_nbformat": 4,
  "vscode": {
   "interpreter": {
    "hash": "e9487f80b5c2735bbc4afc7489ff13f77596a62e20b78908b8eb2e8fe79271a4"
   }
  }
 },
 "nbformat": 4,
 "nbformat_minor": 2
}
